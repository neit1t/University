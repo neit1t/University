{
 "cells": [
  {
   "cell_type": "markdown",
   "metadata": {},
   "source": [
    "## Вариант 7\n",
    "## Работу выполнил студент группы А482 Мировский Н.С."
   ]
  },
  {
   "cell_type": "markdown",
   "metadata": {},
   "source": [
    "<div><img src=\"./lol.png\" width=\"400\"/></div>"
   ]
  },
  {
   "cell_type": "markdown",
   "metadata": {},
   "source": [
    "# Функция <em><strong>solve</strong></em> принимает следующие аргументы\n",
    "##### k1,k2,k3,k4 - жесткости пружин\n",
    "##### c1,c2,c3,c3,c4 - коэффициенты фемпфирования\n",
    "##### m1,m2,m3 - массы тел\n",
    "##### a1,a2 - расстояния от пружин до центра масс 2 тела по горизонтали\n",
    "##### a3,a4 - расстояния от пружин до центра масс 3 тела по горизонтали\n",
    "##### h1,h2,h3,h4 - расстояния до верхних пружин от центра масс 1 тела по горизонтали\n",
    "##### l1,l2,l3,l4,l5 - расстояния до нижних амортизаторов от центра масс 1 тела по горизонтали\n",
    "##### t5,t6,t7,t8,t9 - время между удароми каждого амортизатора в период времени с (1,3) с шагом 0.002\n",
    "#####  I1,I2,I3 - моменты инерции тел"
   ]
  },
  {
   "cell_type": "markdown",
   "metadata": {},
   "source": [
    "### А также имеет следующи константы:\n",
    "##### delta_t=0.002\n",
    "##### gamma = 0.5\n",
    "##### betta = 0.25"
   ]
  },
  {
   "cell_type": "code",
   "execution_count": null,
   "metadata": {},
   "outputs": [],
   "source": [
    "import numpy as np"
   ]
  },
  {
   "cell_type": "code",
   "execution_count": null,
   "metadata": {},
   "outputs": [],
   "source": [
    "#Функция для создания синусоиды\n",
    "def sinys(t,amplityda):\n",
    "    return amplityda*np.sin(np.pi*t)\n",
    "\n",
    "def solve(k1,k2,k3,k4,c1,c2,c3,c4,m1,m2,m3,a1,a2,a3,a4,h1,h2,h3,h4,l1,l2,l3,l4,l5,t5,t6,t7,t8,t9,I1,I2,I3,delta_t=0.002,gamma = 0.5,betta = 0.25):\n",
    "    #Создаем начальные вектора перемещений скоростей и ускорений\n",
    "    X = np.zeros((6,1))\n",
    "    X_t = np.zeros((6,1))\n",
    "    X_tt = np.zeros((6,1))\n",
    "    #Создаем диагональную матрицу\n",
    "    K_diag = np.diag([k1,k1,k2,k2,k3,k3,k4,k4,k4])\n",
    "    D = np.array([[-1,h1,1,-a1,0,0],\n",
    "    [-1,h2,1,a2,0,0],\n",
    "    [-1,-h3,0,0,1,-a3],\n",
    "    [-1,-h4,0,0,1,a4],\n",
    "    [1,-l1,0,0,0,0],\n",
    "    [1,-l3,0,0,0,0],\n",
    "    [1,l5,0,0,0,0],\n",
    "    [1,l4,0,0,0,0],\n",
    "    [1,l2,0,0,0,0]])\n",
    "    K = np.transpose(D)@K_diag@D\n",
    "    #\n",
    "    C_diag = np.diag([0,0,0,0,c3,c3,c4,c4,c4])\n",
    "    C = np.array([[0,0,0,0,0,0],\n",
    "    [0,0,0,0,0,0],\n",
    "    [0,0,0,0,0,0],\n",
    "    [0,0,0,0,0,0],\n",
    "    [1,-l1,0,0,0,0],\n",
    "    [1,-l3,0,0,0,0],\n",
    "    [1,l5,0,0,0,0],\n",
    "    [1,l4,0,0,0,0],\n",
    "    [1,l2,0,0,0,0]])\n",
    "    C = np.transpose(C)@C_diag@C\n",
    "    #Создаем диагональную матрицу масс и моментов\n",
    "    M = np.diag([m1,I1,m2,I2,m3,I3])\n",
    "    #Делаем матрицу внешних воздействий\n",
    "    n = 5\n",
    "    y_voz = np.zeros((10,1001))\n",
    "    y_voz[0,:] = [i*0.001 for i in range(1000,3001,2)]\n",
    "    index_t = [np.where(y_voz == t5)[-1][-1],np.where(y_voz == t6)[-1][-1],np.where(y_voz == t7)[-1][-1],np.where(y_voz == t8)[-1][-1],np.where(y_voz == t9)[-1][-1]]\n",
    "    for i in index_t:\n",
    "        y_voz[n,i:] =  np.concatenate([np.array([sinys(r,1) for r in np.linspace(0,1,75)]),np.zeros((1001-75-i))])\n",
    "        n+=1\n",
    "    y_impact = y_voz[1:,1:]\n",
    "    #Создаем обратную матрицу\n",
    "    M_reverse = np.linalg.inv(M+delta_t*gamma*C+delta_t**2*betta*K)\n",
    "    for i in range(999):\n",
    "        #Формируем матрицы \n",
    "        #Ускорений\n",
    "        F = np.transpose(D)@K_diag@y_impact[:,i+1]-C@(X_t[:,-1]+delta_t*(1-gamma)*X_tt[:,-1])-K@(X[:,-1]+delta_t*X_t[:,-1]+1/2*delta_t**2*(1-2*betta)*X_tt[:,-1])\n",
    "        X_tt = np.concatenate([X_tt,(np.dot(F,M_reverse)).reshape(-1,1)],axis =1)\n",
    "        #Скоростей\n",
    "        X_tn = X_t[:,i]+delta_t*gamma**2*X_tt[:,-1]+(1-gamma)*X_tt[:,i]\n",
    "        X_t = np.concatenate([X_t,X_tn.reshape(-1,1)],axis =1)\n",
    "        #Перемещений\n",
    "        X_n = X[:,i]+delta_t*X_t[:,i]+(1/2)*(delta_t**2)*2*betta*X_tt[:,-1]+(1-2*betta)*X_tt[:,i]\n",
    "        X = np.concatenate([X,X_n.reshape(-1,1)],axis =1)\n",
    "    #return X,X_t,X_tt\n",
    "    #Если нужен вывод матриц ускорений,скоростей и перемещений нужно убрать # перед return"
   ]
  }
 ],
 "metadata": {
  "interpreter": {
   "hash": "31f2aee4e71d21fbe5cf8b01ff0e069b9275f58929596ceb00d14d90e3e16cd6"
  },
  "kernelspec": {
   "display_name": "Python 3.8.2 64-bit",
   "language": "python",
   "name": "python3"
  },
  "language_info": {
   "codemirror_mode": {
    "name": "ipython",
    "version": 3
   },
   "file_extension": ".py",
   "mimetype": "text/x-python",
   "name": "python",
   "nbconvert_exporter": "python",
   "pygments_lexer": "ipython3",
   "version": "3.6.2"
  },
  "orig_nbformat": 4
 },
 "nbformat": 4,
 "nbformat_minor": 2
}
