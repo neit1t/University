{
 "cells": [
  {
   "cell_type": "markdown",
   "metadata": {},
   "source": [
    "# Вариант 8\n",
    "## Молчанова"
   ]
  },
  {
   "cell_type": "markdown",
   "metadata": {},
   "source": [
    "<div><img src=\"./Молчанова.png\" width=\"450\"/></div>"
   ]
  },
  {
   "cell_type": "markdown",
   "metadata": {},
   "source": [
    "# Функция <em><strong>solve</strong></em> принимает следующие аргументы\n",
    "##### k - список жесткостей пружин\n",
    "##### c - список коэффициентов фемпфирования\n",
    "##### m1,m2,m3 - массы тел\n",
    "##### а1,а2 - расстояние от центра масс 2  тела до нижних пружин\n",
    "##### а3 - расстояние от центра масс 2  тела до верхних пружин\n",
    "##### h1,h4 - расстояния до верхних пружин от центра масс 1 тела по горизонтали\n",
    "##### l1,l2,l3,l4,l5 - расстояния до нижних амортизаторов от центра масс 1 тела по горизонтали\n",
    "##### t_matrix - список времен между удароми каждого амортизатора в период времени с (1,3) с шагом 0.002\n",
    "##### I1,I2 - моменты инерции "
   ]
  },
  {
   "cell_type": "markdown",
   "metadata": {},
   "source": [
    "### А также имеет следующи константы:\n",
    "##### delta_t=0.002\n",
    "##### gamma = 0.5\n",
    "##### betta = 0.25"
   ]
  },
  {
   "cell_type": "code",
   "execution_count": null,
   "metadata": {},
   "outputs": [],
   "source": [
    "import numpy as np\n",
    "#Функция для создания синусоиды\n",
    "def sinys(t,amplisuda):\n",
    "    return amplisuda*np.sin(np.pi*t)\n",
    "\n",
    "def solve(k,c,m1,m2,m3,a1,a2,a3,h1,h4,l1,l2,l3,l4,l5,t_matrix,I1,I2,alfa,delta_t=0.002,gamma = 0.5,betta = 0.25):\n",
    "    #Создаем матрицу коэффициентов упругости\n",
    "    K_diag = np.diag(k)\n",
    "    D = np.array([[0,0,-1/np.cos(alfa),a3/np.cos(alfa),1/np.cos(alfa)],\n",
    "    [0,0,-1,0,1],\n",
    "    [0,0,-1/np.cos(alfa),a3/np.cos(alfa),1/np.cos(alfa)],\n",
    "    [-1,h1,1,-a1,0],\n",
    "    [-1,-h4,1,a2,0],\n",
    "    [1,-l1,0,0,0],\n",
    "    [1,-l3,0,0,0],\n",
    "    [1,l5,0,0,0],\n",
    "    [1,l4,0,0,0],\n",
    "    [1,l2,0,0,0]])\n",
    "    K = np.transpose(D)@K_diag@D\n",
    "    #Создаем матрицу коэффициентов демпфирования\n",
    "    C_diag = np.diag(c)\n",
    "    C = np.array([[0,0,0,0,0],\n",
    "    [0,0,0,0,0],\n",
    "    [0,0,0,0,0],\n",
    "    [0,0,0,0,0],\n",
    "    [0,0,0,0,0],\n",
    "    [1,-l1,0,0,0],\n",
    "    [1,-l3,0,0,0],\n",
    "    [1,l5,0,0,0],\n",
    "    [1,l4,0,0,0],\n",
    "    [1,l2,0,0,0]])\n",
    "    C = np.transpose(C)@C_diag@C\n",
    "    #Создаем диагональную матрицу масс и моментов\n",
    "    M = np.diag([m1,I1,m2,I2,m3])\n",
    "    #Делаем матрицу внешних воздействий\n",
    "    n = D.shape[0]-len(t_matrix)\n",
    "    y_voz = np.zeros((D.shape[0]+1,1001))\n",
    "    y_voz[0,:] = [i*0.001 for i in range(1000,3001,2)]\n",
    "    index_t = [np.where(y_voz[0,:] == i)[-1][-1] for i in t_matrix]\n",
    "    for i in index_t:\n",
    "        y_voz[n,i:] =  np.concatenate([np.array([sinys(r,1) for r in np.linspace(0,1,75)]),np.zeros((1001-75-i))])\n",
    "        n+=1\n",
    "    y_impact = y_voz[1:,1:]\n",
    "    #Создаем обратную матрицу\n",
    "    M_reverse = np.linalg.inv(M+delta_t*gamma*C+delta_t**2*betta*K)\n",
    "    #Создадим оператор для ввода вектора внешних сил\n",
    "    K_diag_transpose = np.transpose(D)@K_diag\n",
    "    #Зададим вектора перемещения скорости и ускорения в 0 момент\n",
    "    X = np.zeros((K_diag_transpose.shape[0],1))\n",
    "    X_t = np.zeros((K_diag_transpose.shape[0],1))\n",
    "    X_tt = np.zeros((K_diag_transpose.shape[0],1))\n",
    "    for i in range(y_impact.shape[1]-1):\n",
    "        #Формируем матрицы методом Ньюмарка\n",
    "        #Ускорений\n",
    "        F = K_diag_transpose@y_impact[:,i+1]-C@(X_t[:,-1]+delta_t*(1-gamma)*X_tt[:,-1])-K@(X[:,-1]+delta_t*X_t[:,-1]+1/2*delta_t**2*(1-2*betta)*X_tt[:,-1])\n",
    "        X_tt = np.concatenate([X_tt,(np.dot(F,M_reverse)).reshape(-1,1)],axis =1)\n",
    "        #Скоростей\n",
    "        X_tn = X_t[:,i]+delta_t*gamma**2*X_tt[:,-1]+(1-gamma)*X_tt[:,i]\n",
    "        X_t = np.concatenate([X_t,X_tn.reshape(-1,1)],axis =1)\n",
    "        #Перемещений\n",
    "        X_n = X[:,i]+delta_t*X_t[:,i]+(1/2)*(delta_t**2)*2*betta*X_tt[:,-1]+(1-2*betta)*X_tt[:,i]\n",
    "        X = np.concatenate([X,X_n.reshape(-1,1)],axis =1)\n",
    "    #return X,X_t,X_tt\n",
    "    #Если нужен вывод матриц ускорений,скоростей и перемещений нужно убрать # перед return"
   ]
  }
 ],
 "metadata": {
  "interpreter": {
   "hash": "31f2aee4e71d21fbe5cf8b01ff0e069b9275f58929596ceb00d14d90e3e16cd6"
  },
  "kernelspec": {
   "display_name": "Python 3.8.2 64-bit",
   "language": "python",
   "name": "python3"
  },
  "language_info": {
   "codemirror_mode": {
    "name": "ipython",
    "version": 3
   },
   "file_extension": ".py",
   "mimetype": "text/x-python",
   "name": "python",
   "nbconvert_exporter": "python",
   "pygments_lexer": "ipython3",
   "version": "3.6.2"
  },
  "orig_nbformat": 4
 },
 "nbformat": 4,
 "nbformat_minor": 2
}
