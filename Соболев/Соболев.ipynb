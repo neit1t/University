{
 "cells": [
  {
   "cell_type": "markdown",
   "metadata": {},
   "source": [
    "# Вариант 12\n",
    "## Соболев"
   ]
  },
  {
   "cell_type": "markdown",
   "metadata": {},
   "source": [
    "<div><img src=\"./Санек пирожок.png\" width=\"450\"/></div>"
   ]
  },
  {
   "cell_type": "markdown",
   "metadata": {},
   "source": [
    "# Функция <em><strong>solve</strong></em> принимает следующие аргументы\n",
    "##### k - список жесткостей пружин\n",
    "##### c - список коэффициентов фемпфирования\n",
    "##### m1,m2,m3 - массы тел\n",
    "##### h1,h2,h3,h4 - расстояния до верхних пружин от центра масс 1 тела по горизонтали\n",
    "##### l1,l2,l3,l4 - расстояния до нижних амортизаторов от центра масс 1 тела по горизонтали\n",
    "##### H1,H2 - расстояния от центров масс до крайних амортизаторов\n",
    "##### t_matrix - список времен между удароми каждого амортизатора в период времени с (1,3) с шагом 0.002\n",
    "##### I1,I2,I3 - моменты инерции"
   ]
  },
  {
   "cell_type": "markdown",
   "metadata": {},
   "source": [
    "### А также имеет следующи константы:\n",
    "##### delta_t=0.002\n",
    "##### gamma = 0.5\n",
    "##### betta = 0.25"
   ]
  },
  {
   "cell_type": "code",
   "execution_count": null,
   "metadata": {},
   "outputs": [],
   "source": [
    "import numpy as np\n",
    "#Функция для создания синусоиды\n",
    "def rounding(n):\n",
    "    return round(round(n,3)+0.001,3) if (round(n,3)*1000)%2!=0 else round(n,3)\n",
    "\n",
    "def sinys(t,amplisuda,L):\n",
    "    return amplisuda*np.sin(np.pi*t/L)\n",
    "\n",
    "def solve(k,c,m1,m2,m3,h1,h2,h3,h4,l1,l2,l3,l4,H1,H2,I1,I2,I3,alfa,v,L,A,delta_t=0.002,gamma = 0.5,betta = 0.25):\n",
    "    v = v*1000/3600\n",
    "    T = round((l1+l2+L)/v,2)\n",
    "    T = [round(i,3) for i in np.arange(0,(T+0.001),delta_t)]\n",
    "    N = len(T)\n",
    "    t_matrix = list(map(rounding,[(l2-l2)/v,(l2-l4)/v, (l2+l3)/v,(l2+l1)/v]))\n",
    "    n_it1t = int((L/v)/delta_t)\n",
    "    sinus = np.array([sinys(r,A,L) for r in np.linspace(0,1,n_it1t)])\n",
    "    #Создаем матрицу коэффициентов упругости\n",
    "    cos_alfa = np.cos(alfa*np.pi/180)\n",
    "    K_diag = np.diag(k)\n",
    "    D = np.array([[-1,h1,1,-H1,0,0],\n",
    "    [-1*cos_alfa,h3*cos_alfa,1*cos_alfa,0,0,0],\n",
    "    [-1*cos_alfa,(h4-h2)*cos_alfa,0,0,1*cos_alfa,0],\n",
    "    [-1,-h2,0,0,1,H2],\n",
    "    [1,-l1,0,0,0,0],\n",
    "    [1,-l3,0,0,0,0],\n",
    "    [1,l4,0,0,0,0],\n",
    "    [1,l2,0,0,0,0]])\n",
    "    K = np.transpose(D)@K_diag@D\n",
    "    #Создаем матрицу коэффициентов демпфирования\n",
    "    C_diag = np.diag(c)\n",
    "    C = np.array([[0,0,0,0,0,0],\n",
    "    [0,0,0,0,0,0],\n",
    "    [0,0,0,0,0,0],\n",
    "    [0,0,0,0,0,0],\n",
    "    [1,-l1,0,0,0,0],\n",
    "    [1,-l3,0,0,0,0],\n",
    "    [1,l4,0,0,0,0],\n",
    "    [1,l2,0,0,0,0]])\n",
    "    C = np.transpose(C)@C_diag@C\n",
    "    #Создаем диагональную матрицу масс и моментов\n",
    "    M = np.diag([m1,I1,m2,I2,m3,I3])\n",
    "    #Делаем матрицу внешних воздействий\n",
    "    n = D.shape[0]-len(t_matrix)+1\n",
    "    y_voz = np.zeros((D.shape[0]+1,N))\n",
    "    y_voz[0,:] = T\n",
    "    index_t = [np.where(y_voz[0,:] == i)[-1][-1] for i in t_matrix]\n",
    "    for i in index_t:\n",
    "        y_voz[n,i:] =  np.concatenate([sinus,np.zeros((N-n_it1t-i))])\n",
    "        n+=1\n",
    "    y_impact = y_voz[1:,:]\n",
    "    #Создаем обратную матрицу\n",
    "    M_reverse = np.linalg.inv(M+delta_t*gamma*C+delta_t**2*betta*K)\n",
    "    #Создадим оператор для ввода вектора внешних сил\n",
    "    K_diag_transpose = np.transpose(D)@K_diag\n",
    "    #Зададим вектора перемещения скорости и ускорения в 0 момент\n",
    "    X = np.zeros((K_diag_transpose.shape[0],1))\n",
    "    X_t = np.zeros((K_diag_transpose.shape[0],1))\n",
    "    X_tt = np.zeros((K_diag_transpose.shape[0],1))\n",
    "    for i in range(N-1):\n",
    "        #Формируем матрицы методом Ньюмарка\n",
    "        #Ускорений\n",
    "        F = K_diag_transpose@y_impact[:,i+1]-C@(X_t[:,-1]+delta_t*(1-gamma)*X_tt[:,-1])-K@(X[:,-1]+delta_t*X_t[:,-1]+1/2*delta_t**2*(1-2*betta)*X_tt[:,-1])\n",
    "        X_tt = np.concatenate([X_tt,(np.dot(F,M_reverse)).reshape(-1,1)],axis =1)\n",
    "        #Скоростей\n",
    "        X_tn = X_t[:,i]+delta_t*(gamma*X_tt[:,-1]+(1-gamma)*X_tt[:,i])\n",
    "        X_t = np.concatenate([X_t,X_tn.reshape(-1,1)],axis =1)\n",
    "        #Перемещений\n",
    "        X_n = X[:,i]+delta_t*X_t[:,i]+0.5*(delta_t**2)*(2*betta*X_tt[:,-1]+(1-2*betta)*X_tt[:,i])\n",
    "        X = np.concatenate([X,X_n.reshape(-1,1)],axis =1)\n",
    "    return X,X_t,X_tt"
   ]
  }
 ],
 "metadata": {
  "interpreter": {
   "hash": "40d3a090f54c6569ab1632332b64b2c03c39dcf918b08424e98f38b5ae0af88f"
  },
  "kernelspec": {
   "display_name": "Python 3.6.2",
   "language": "python",
   "name": "python3"
  },
  "language_info": {
   "codemirror_mode": {
    "name": "ipython",
    "version": 3
   },
   "file_extension": ".py",
   "mimetype": "text/x-python",
   "name": "python",
   "nbconvert_exporter": "python",
   "pygments_lexer": "ipython3",
   "version": "3.6.2"
  },
  "orig_nbformat": 4
 },
 "nbformat": 4,
 "nbformat_minor": 2
}
